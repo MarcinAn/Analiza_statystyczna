{
 "cells": [
  {
   "cell_type": "markdown",
   "metadata": {
    "id": "UfJEXWPpriYN"
   },
   "source": [
    "# **Pobieranie danych**"
   ]
  },
  {
   "cell_type": "code",
   "execution_count": 4,
   "metadata": {
    "executionInfo": {
     "elapsed": 213,
     "status": "ok",
     "timestamp": 1689831004035,
     "user": {
      "displayName": "Marcin Antonik",
      "userId": "01319716782869228494"
     },
     "user_tz": -120
    },
    "id": "ZMg8Kg_drgE1"
   },
   "outputs": [],
   "source": [
    "import numpy as np\n",
    "import pandas as pd\n",
    "import matplotlib.pyplot as plt\n",
    "import seaborn as sns\n",
    "from scipy import stats\n",
    "from sklearn.preprocessing import StandardScaler, MinMaxScaler\n",
    "df= pd.read_csv('titanic.csv')"
   ]
  },
  {
   "cell_type": "markdown",
   "metadata": {
    "id": "Ru9tZomsrmfn"
   },
   "source": [
    "# **Dokonaj statystycznej analizy (obliczenie średniej, kwartyli czy wykresów pudełkowych) dla zmiennej Fare (opłata). Wynik pracy prześlij Mentorowi jako Jupyter Notebook zapisany na GitHub.**"
   ]
  },
  {
   "cell_type": "code",
   "execution_count": 5,
   "metadata": {
    "executionInfo": {
     "elapsed": 219,
     "status": "ok",
     "timestamp": 1689831054000,
     "user": {
      "displayName": "Marcin Antonik",
      "userId": "01319716782869228494"
     },
     "user_tz": -120
    },
    "id": "9AGdQFG0t-5l"
   },
   "outputs": [],
   "source": [
    "fare_values= df.loc[df['Fare'].notnull(), 'Fare'].values"
   ]
  },
  {
   "cell_type": "markdown",
   "metadata": {
    "id": "MDWHc758x63o"
   },
   "source": [
    "**Średnia, mediana, moda, kwartyle**"
   ]
  },
  {
   "cell_type": "code",
   "execution_count": 6,
   "metadata": {
    "colab": {
     "base_uri": "https://localhost:8080/"
    },
    "executionInfo": {
     "elapsed": 212,
     "status": "ok",
     "timestamp": 1689831055245,
     "user": {
      "displayName": "Marcin Antonik",
      "userId": "01319716782869228494"
     },
     "user_tz": -120
    },
    "id": "epM4sF7xx4lg",
    "outputId": "81c12ee5-b719-4265-daaa-12504bd27db6"
   },
   "outputs": [],
   "source": [
    "mean_fare = np.round(np.mean(fare_values))\n",
    "median_fare = np.median(fare_values)\n",
    "mode_fare = stats.mode(fare_values)\n",
    "q0 = np.quantile(fare_values, 0.0)\n",
    "q1 = np.round(np.quantile(fare_values, 0.25))\n",
    "q3 = np.round(np.quantile(fare_values, 0.75))\n",
    "q4 = np.round(np.quantile(fare_values, 1.0))"
   ]
  },
  {
   "cell_type": "code",
   "execution_count": 7,
   "metadata": {
    "colab": {
     "base_uri": "https://localhost:8080/"
    },
    "executionInfo": {
     "elapsed": 209,
     "status": "ok",
     "timestamp": 1689831559467,
     "user": {
      "displayName": "Marcin Antonik",
      "userId": "01319716782869228494"
     },
     "user_tz": -120
    },
    "id": "3WqHrWsIvUou",
    "outputId": "ccc880ac-4d28-49f2-f403-22be0efd8768"
   },
   "outputs": [
    {
     "name": "stdout",
     "output_type": "stream",
     "text": [
      "Średnia: 32.0\n",
      "Mediana: 14.4542\n",
      "Moda: 8.05\n",
      "Min: 0.0\n",
      "Q1: 8.0\n",
      "Q3: 31.0\n",
      "Max: 512.0\n"
     ]
    }
   ],
   "source": [
    "print(f'Średnia: {mean_fare}')\n",
    "print(f'Mediana: {median_fare}')\n",
    "print(f'Moda: {mode_fare[0].item()}')\n",
    "print(f'Min: {q0}')\n",
    "print(f'Q1: {q1}')\n",
    "print(f'Q3: {q3}')\n",
    "print(f'Max: {q4}')"
   ]
  },
  {
   "cell_type": "markdown",
   "metadata": {
    "id": "YzyDH-AqyYum"
   },
   "source": [
    "**Histogram**"
   ]
  },
  {
   "cell_type": "code",
   "execution_count": 8,
   "metadata": {
    "colab": {
     "base_uri": "https://localhost:8080/",
     "height": 430
    },
    "executionInfo": {
     "elapsed": 585,
     "status": "ok",
     "timestamp": 1689830303189,
     "user": {
      "displayName": "Marcin Antonik",
      "userId": "01319716782869228494"
     },
     "user_tz": -120
    },
    "id": "UvFePQxAroRm",
    "outputId": "09bdf8a4-fcd7-4565-94ee-6bb4ec67ad13"
   },
   "outputs": [
    {
     "data": {
      "image/png": "[encoded data removed]",
      "text/plain": [
       "<Figure size 432x288 with 1 Axes>"
      ]
     },
     "metadata": {
      "needs_background": "light"
     },
     "output_type": "display_data"
    }
   ],
   "source": [
    "plt.hist(fare_values, bins=30)\n",
    "\n",
    "plt.axvline(x = mean_fare, color='red', label = 'Średnia')\n",
    "plt.axvline(x = median_fare, color='green', label = 'Mediana')\n",
    "plt.axvline(x = mode_fare[0], color='orange', label = 'Moda')\n",
    "plt.axvline(x = q0, color='black', label = 'Min')\n",
    "plt.axvline(x = q1, color='black', label = 'Q1')\n",
    "plt.axvline(x = q3, color='black', label = 'Q3')\n",
    "plt.axvline(x = q4, color='black', label = 'Max')\n",
    "\n",
    "plt.legend(loc='upper right')\n",
    "plt.show()"
   ]
  },
  {
   "cell_type": "markdown",
   "metadata": {
    "id": "ULo7DBGtyDtQ"
   },
   "source": [
    "**Zakres, rozstęp międzykwartylowy - IQR**"
   ]
  },
  {
   "cell_type": "code",
   "execution_count": 9,
   "metadata": {
    "executionInfo": {
     "elapsed": 221,
     "status": "ok",
     "timestamp": 1689830774236,
     "user": {
      "displayName": "Marcin Antonik",
      "userId": "01319716782869228494"
     },
     "user_tz": -120
    },
    "id": "5VEgvmjmtHFr"
   },
   "outputs": [],
   "source": [
    "range_fare = max(fare_values) - min(fare_values)\n",
    "iqr = q3 - q1"
   ]
  },
  {
   "cell_type": "code",
   "execution_count": 10,
   "metadata": {
    "colab": {
     "base_uri": "https://localhost:8080/"
    },
    "executionInfo": {
     "elapsed": 4,
     "status": "ok",
     "timestamp": 1689830775034,
     "user": {
      "displayName": "Marcin Antonik",
      "userId": "01319716782869228494"
     },
     "user_tz": -120
    },
    "id": "MDjLAStCwqls",
    "outputId": "d48d0ac4-ff31-4f15-df68-e62c3b3778d3"
   },
   "outputs": [
    {
     "name": "stdout",
     "output_type": "stream",
     "text": [
      "Zakres: 512.3292\n",
      "Rozstęp międzykwartylowy: 23.0\n"
     ]
    }
   ],
   "source": [
    "print(f'Zakres: {range_fare}')\n",
    "print(f'Rozstęp międzykwartylowy: {iqr}')"
   ]
  },
  {
   "cell_type": "markdown",
   "metadata": {
    "id": "kSpKcHGdyOaf"
   },
   "source": [
    "**Wykres pudełkowy**"
   ]
  },
  {
   "cell_type": "code",
   "execution_count": 11,
   "metadata": {
    "colab": {
     "base_uri": "https://localhost:8080/",
     "height": 430
    },
    "executionInfo": {
     "elapsed": 357,
     "status": "ok",
     "timestamp": 1689830797141,
     "user": {
      "displayName": "Marcin Antonik",
      "userId": "01319716782869228494"
     },
     "user_tz": -120
    },
    "id": "spbqcFeTw4dN",
    "outputId": "7c8fad5e-583c-4ea8-95e2-31008dcaa6b6"
   },
   "outputs": [
    {
     "data": {
      "image/png": "[encoded data removed]",
      "text/plain": [
       "<Figure size 432x288 with 1 Axes>"
      ]
     },
     "metadata": {
      "needs_background": "light"
     },
     "output_type": "display_data"
    }
   ],
   "source": [
    "plt.boxplot(fare_values)\n",
    "plt.show()"
   ]
  },
  {
   "cell_type": "markdown",
   "metadata": {
    "id": "crON1Tc6yc3J"
   },
   "source": [
    "**Wariancja, odchylenie standardowe**"
   ]
  },
  {
   "cell_type": "code",
   "execution_count": 12,
   "metadata": {
    "executionInfo": {
     "elapsed": 5,
     "status": "ok",
     "timestamp": 1689830973270,
     "user": {
      "displayName": "Marcin Antonik",
      "userId": "01319716782869228494"
     },
     "user_tz": -120
    },
    "id": "r4K1Sf1zw_9l"
   },
   "outputs": [],
   "source": [
    "variance_fare = np.var(fare_values, ddof=1)\n",
    "standard_deviation_fare = np.std(fare_values, ddof=1)\n"
   ]
  },
  {
   "cell_type": "code",
   "execution_count": 13,
   "metadata": {
    "colab": {
     "base_uri": "https://localhost:8080/"
    },
    "executionInfo": {
     "elapsed": 209,
     "status": "ok",
     "timestamp": 1689830975665,
     "user": {
      "displayName": "Marcin Antonik",
      "userId": "01319716782869228494"
     },
     "user_tz": -120
    },
    "id": "Z9-KbuDIxPD7",
    "outputId": "393f751d-121a-4ada-92b2-d70c2f8dcab0"
   },
   "outputs": [
    {
     "name": "stdout",
     "output_type": "stream",
     "text": [
      "Wariancja: 2469.436845743116\n",
      "Odchylenie standardowe: 49.6934285971809\n"
     ]
    }
   ],
   "source": [
    "print(f'Wariancja: {variance_fare}')\n",
    "print(f'Odchylenie standardowe: {standard_deviation_fare}')"
   ]
  }
 ],
 "metadata": {
  "colab": {
   "authorship_tag": "ABX9TyNArYRUl/p5hh2APw6VP8eg",
   "provenance": []
  },
  "kernelspec": {
   "display_name": "Python 3 (ipykernel)",
   "language": "python",
   "name": "python3"
  },
  "language_info": {
   "codemirror_mode": {
    "name": "ipython",
    "version": 3
   },
   "file_extension": ".py",
   "mimetype": "text/x-python",
   "name": "python",
   "nbconvert_exporter": "python",
   "pygments_lexer": "ipython3",
   "version": "3.9.12"
  }
 },
 "nbformat": 4,
 "nbformat_minor": 1
}
