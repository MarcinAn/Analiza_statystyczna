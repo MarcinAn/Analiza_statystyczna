{
  "cells": [
    {
      "cell_type": "markdown",
      "metadata": {
        "id": "UfJEXWPpriYN"
      },
      "source": [
        "# **Pobieranie danych**"
      ]
    },
    {
      "cell_type": "code",
      "execution_count": 14,
      "metadata": {
        "id": "ZMg8Kg_drgE1"
      },
      "outputs": [],
      "source": [
        "import numpy as np\n",
        "import pandas as pd\n",
        "import matplotlib.pyplot as plt\n",
        "import seaborn as sns\n",
        "from scipy import stats\n",
        "from sklearn.preprocessing import StandardScaler, MinMaxScaler\n",
        "df= pd.read_csv('titanic.csv')"
      ]
    },
    {
      "cell_type": "markdown",
      "metadata": {
        "id": "Ru9tZomsrmfn"
      },
      "source": [
        "# **Dokonaj statystycznej analizy (obliczenie średniej, kwartyli czy wykresów pudełkowych) dla zmiennej Fare (opłata). Wynik pracy prześlij Mentorowi jako Jupyter Notebook zapisany na GitHub.**"
      ]
    },
    {
      "cell_type": "code",
      "execution_count": 15,
      "metadata": {
        "id": "9AGdQFG0t-5l"
      },
      "outputs": [],
      "source": [
        "fare_values= df['Fare']"
      ]
    },
    {
      "cell_type": "markdown",
      "metadata": {
        "id": "MDWHc758x63o"
      },
      "source": [
        "**Średnia, mediana, moda, kwartyle**"
      ]
    },
    {
      "cell_type": "code",
      "execution_count": 16,
      "metadata": {
        "colab": {
          "base_uri": "https://localhost:8080/"
        },
        "id": "epM4sF7xx4lg",
        "outputId": "a37f2078-2fd7-44d7-b23c-068283eca4b1"
      },
      "outputs": [
        {
          "output_type": "stream",
          "name": "stderr",
          "text": [
            "<ipython-input-16-952300fd81c2>:3: FutureWarning: Unlike other reduction functions (e.g. `skew`, `kurtosis`), the default behavior of `mode` typically preserves the axis it acts along. In SciPy 1.11.0, this behavior will change: the default value of `keepdims` will become False, the `axis` over which the statistic is taken will be eliminated, and the value None will no longer be accepted. Set `keepdims` to True or False to avoid this warning.\n",
            "  mode_fare = stats.mode(fare_values)\n"
          ]
        }
      ],
      "source": [
        "mean_fare = np.round(np.mean(fare_values))\n",
        "median_fare = np.median(fare_values)\n",
        "mode_fare = stats.mode(fare_values)\n",
        "q0 = np.quantile(fare_values, 0.0)\n",
        "q1 = np.round(np.quantile(fare_values, 0.25))\n",
        "q3 = np.round(np.quantile(fare_values, 0.75))\n",
        "q4 = np.round(np.quantile(fare_values, 1.0))"
      ]
    },
    {
      "cell_type": "code",
      "execution_count": 27,
      "metadata": {
        "colab": {
          "base_uri": "https://localhost:8080/"
        },
        "id": "3WqHrWsIvUou",
        "outputId": "71559165-15cf-47fc-f941-a2ea2de8e39c"
      },
      "outputs": [
        {
          "output_type": "stream",
          "name": "stdout",
          "text": [
            "Średnia: 32.0\n",
            "Mediana: 14.4542\n",
            "Moda: 8.05\n",
            "Min: 0.0\n",
            "Q1: 8.0\n",
            "Q3: 31.0\n",
            "Max: 512.0\n"
          ]
        }
      ],
      "source": [
        "print(f'Średnia: {mean_fare}')\n",
        "print(f'Mediana: {median_fare}')\n",
        "print(f'Moda: {mode_fare[0].item()}')\n",
        "print(f'Min: {q0}')\n",
        "print(f'Q1: {q1}')\n",
        "print(f'Q3: {q3}')\n",
        "print(f'Max: {q4}')"
      ]
    },
    {
      "cell_type": "code",
      "source": [
        "round(fare_values.describe(),2)"
      ],
      "metadata": {
        "colab": {
          "base_uri": "https://localhost:8080/"
        },
        "id": "iomSWiLqPWuC",
        "outputId": "e967c476-6f6c-443d-c44a-12f0cd55e4e1"
      },
      "execution_count": 37,
      "outputs": [
        {
          "output_type": "execute_result",
          "data": {
            "text/plain": [
              "count    891.00\n",
              "mean      32.20\n",
              "std       49.69\n",
              "min        0.00\n",
              "25%        7.91\n",
              "50%       14.45\n",
              "75%       31.00\n",
              "max      512.33\n",
              "Name: Fare, dtype: float64"
            ]
          },
          "metadata": {},
          "execution_count": 37
        }
      ]
    },
    {
      "cell_type": "markdown",
      "metadata": {
        "id": "YzyDH-AqyYum"
      },
      "source": [
        "**Histogram**"
      ]
    },
    {
      "cell_type": "code",
      "execution_count": 18,
      "metadata": {
        "colab": {
          "base_uri": "https://localhost:8080/",
          "height": 430
        },
        "id": "UvFePQxAroRm",
        "outputId": "f904e475-034d-4e5d-bb3c-779cdfffae28"
      },
      "outputs": [
        {
          "output_type": "display_data",
          "data": {
            "text/plain": [
              "<Figure size 640x480 with 1 Axes>"
            ],
            "image/png": "[encoded data removed]"
          },
          "metadata": {}
        }
      ],
      "source": [
        "plt.hist(fare_values, bins=30)\n",
        "\n",
        "plt.axvline(x = mean_fare, color='red', label = 'Średnia')\n",
        "plt.axvline(x = median_fare, color='green', label = 'Mediana')\n",
        "plt.axvline(x = mode_fare[0], color='orange', label = 'Moda')\n",
        "plt.axvline(x = q0, color='black', label = 'Min')\n",
        "plt.axvline(x = q1, color='black', label = 'Q1')\n",
        "plt.axvline(x = q3, color='black', label = 'Q3')\n",
        "plt.axvline(x = q4, color='black', label = 'Max')\n",
        "\n",
        "plt.legend(loc='upper right')\n",
        "plt.show()"
      ]
    },
    {
      "cell_type": "markdown",
      "metadata": {
        "id": "ULo7DBGtyDtQ"
      },
      "source": [
        "**Zakres, rozstęp międzykwartylowy - IQR**"
      ]
    },
    {
      "cell_type": "code",
      "execution_count": 19,
      "metadata": {
        "id": "5VEgvmjmtHFr"
      },
      "outputs": [],
      "source": [
        "range_fare = max(fare_values) - min(fare_values)\n",
        "iqr = q3 - q1"
      ]
    },
    {
      "cell_type": "code",
      "execution_count": 20,
      "metadata": {
        "colab": {
          "base_uri": "https://localhost:8080/"
        },
        "id": "MDjLAStCwqls",
        "outputId": "e5cbfb7c-1559-4abd-f97b-da34fdb3cd27"
      },
      "outputs": [
        {
          "output_type": "stream",
          "name": "stdout",
          "text": [
            "Zakres: 512.3292\n",
            "Rozstęp międzykwartylowy: 23.0\n"
          ]
        }
      ],
      "source": [
        "print(f'Zakres: {range_fare}')\n",
        "print(f'Rozstęp międzykwartylowy: {iqr}')"
      ]
    },
    {
      "cell_type": "markdown",
      "metadata": {
        "id": "kSpKcHGdyOaf"
      },
      "source": [
        "**Wykres pudełkowy**"
      ]
    },
    {
      "cell_type": "code",
      "execution_count": 21,
      "metadata": {
        "colab": {
          "base_uri": "https://localhost:8080/",
          "height": 430
        },
        "id": "spbqcFeTw4dN",
        "outputId": "65304e48-39c4-46e2-af12-945caf5a9316"
      },
      "outputs": [
        {
          "output_type": "display_data",
          "data": {
            "text/plain": [
              "<Figure size 640x480 with 1 Axes>"
            ],
            "image/png": "[encoded data removed]"
          },
          "metadata": {}
        }
      ],
      "source": [
        "plt.boxplot(fare_values)\n",
        "plt.show()"
      ]
    },
    {
      "cell_type": "markdown",
      "metadata": {
        "id": "crON1Tc6yc3J"
      },
      "source": [
        "**Wariancja, odchylenie standardowe**"
      ]
    },
    {
      "cell_type": "code",
      "execution_count": 22,
      "metadata": {
        "id": "r4K1Sf1zw_9l"
      },
      "outputs": [],
      "source": [
        "variance_fare = np.var(fare_values, ddof=1)\n",
        "standard_deviation_fare = np.std(fare_values, ddof=1)\n"
      ]
    },
    {
      "cell_type": "code",
      "execution_count": 23,
      "metadata": {
        "colab": {
          "base_uri": "https://localhost:8080/"
        },
        "id": "Z9-KbuDIxPD7",
        "outputId": "c53df82b-ddbd-4559-935a-2adac9923355"
      },
      "outputs": [
        {
          "output_type": "stream",
          "name": "stdout",
          "text": [
            "Wariancja: 2469.436845743116\n",
            "Odchylenie standardowe: 49.6934285971809\n"
          ]
        }
      ],
      "source": [
        "print(f'Wariancja: {variance_fare}')\n",
        "print(f'Odchylenie standardowe: {standard_deviation_fare}')"
      ]
    }
  ],
  "metadata": {
    "colab": {
      "provenance": []
    },
    "kernelspec": {
      "display_name": "Python 3 (ipykernel)",
      "language": "python",
      "name": "python3"
    },
    "language_info": {
      "codemirror_mode": {
        "name": "ipython",
        "version": 3
      },
      "file_extension": ".py",
      "mimetype": "text/x-python",
      "name": "python",
      "nbconvert_exporter": "python",
      "pygments_lexer": "ipython3",
      "version": "3.9.12"
    }
  },
  "nbformat": 4,
  "nbformat_minor": 0
}